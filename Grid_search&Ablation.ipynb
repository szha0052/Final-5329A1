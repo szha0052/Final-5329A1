{
  "cells": [
    {
      "cell_type": "markdown",
      "metadata": {
        "id": "view-in-github",
        "colab_type": "text"
      },
      "source": [
        "<a href=\"https://colab.research.google.com/github/szha0052/Final-5329A1/blob/main/Grid_search%26Ablation.ipynb\" target=\"_parent\"><img src=\"https://colab.research.google.com/assets/colab-badge.svg\" alt=\"Open In Colab\"/></a>"
      ]
    },
    {
      "cell_type": "code",
      "source": [
        "from google.colab import drive\n",
        "drive.mount('/content/drive/')\n",
        "\n",
        "%cd /content/drive/MyDrive/COMP5329_A1/\n"
      ],
      "metadata": {
        "id": "m6Mie8VTBtEy",
        "outputId": "9302402d-d6b3-4df6-dc6b-caf40c9c23dc",
        "colab": {
          "base_uri": "https://localhost:8080/"
        }
      },
      "id": "m6Mie8VTBtEy",
      "execution_count": 13,
      "outputs": [
        {
          "output_type": "stream",
          "name": "stdout",
          "text": [
            "Drive already mounted at /content/drive/; to attempt to forcibly remount, call drive.mount(\"/content/drive/\", force_remount=True).\n",
            "/content/drive/MyDrive/COMP5329_A1\n"
          ]
        }
      ]
    },
    {
      "cell_type": "code",
      "execution_count": 14,
      "id": "b954ab5c",
      "metadata": {
        "id": "b954ab5c"
      },
      "outputs": [],
      "source": [
        "import numpy as np\n",
        "from MLP.model import MLP\n",
        "import pandas as pd\n",
        "from MLP.layers import SoftmaxCrossEntropy\n",
        "from MLP.layers import Adam\n",
        "from MLP.layers import MiniBatchFit\n",
        "from MLP.layers import SGDMomentum\n",
        "from tqdm import tqdm\n",
        "\n"
      ]
    },
    {
      "cell_type": "code",
      "source": [],
      "metadata": {
        "id": "3gWOlsVF-dgQ",
        "outputId": "0f7fb796-370e-4a0b-b823-ec16bdea2957",
        "colab": {
          "base_uri": "https://localhost:8080/"
        }
      },
      "id": "3gWOlsVF-dgQ",
      "execution_count": null,
      "outputs": [
        {
          "output_type": "stream",
          "name": "stdout",
          "text": [
            "Mounted at /content/drive/\n",
            "/content/drive/MyDrive/COMP5329_A1\n"
          ]
        }
      ]
    },
    {
      "cell_type": "markdown",
      "id": "89ed4829",
      "metadata": {
        "id": "89ed4829"
      },
      "source": [
        "## 1. Data Import and Data Preprocessing"
      ]
    },
    {
      "cell_type": "markdown",
      "id": "c5fddfc4",
      "metadata": {
        "id": "c5fddfc4"
      },
      "source": [
        "## 1.1 Import Data"
      ]
    },
    {
      "cell_type": "code",
      "execution_count": 15,
      "id": "7b4d8c52",
      "metadata": {
        "id": "7b4d8c52"
      },
      "outputs": [],
      "source": [
        "# import npy data\n",
        "X_train = np.load('Assignment1-Dataset/train_data.npy')\n",
        "X_test = np.load('Assignment1-Dataset/test_data.npy')\n",
        "Y_train = np.load('Assignment1-Dataset/train_label.npy').flatten()\n",
        "Y_test = np.load('Assignment1-Dataset/test_label.npy').flatten()"
      ]
    },
    {
      "cell_type": "code",
      "execution_count": 16,
      "id": "00ce8560",
      "metadata": {
        "id": "00ce8560",
        "outputId": "42b8f32b-3f2c-4965-d4a4-f9b8119528d6",
        "colab": {
          "base_uri": "https://localhost:8080/"
        }
      },
      "outputs": [
        {
          "output_type": "execute_result",
          "data": {
            "text/plain": [
              "((50000, 128), (50000,), (10000, 128), (10000,))"
            ]
          },
          "metadata": {},
          "execution_count": 16
        }
      ],
      "source": [
        "X_train.shape, Y_train.shape, X_test.shape, Y_test.shape"
      ]
    },
    {
      "cell_type": "code",
      "execution_count": 17,
      "id": "4fe16aa8",
      "metadata": {
        "id": "4fe16aa8",
        "outputId": "1973232d-5310-4b35-9487-c4f308d20822",
        "colab": {
          "base_uri": "https://localhost:8080/"
        }
      },
      "outputs": [
        {
          "output_type": "execute_result",
          "data": {
            "text/plain": [
              "array([0, 1, 2, 3, 4, 5, 6, 7, 8, 9], dtype=uint8)"
            ]
          },
          "metadata": {},
          "execution_count": 17
        }
      ],
      "source": [
        "# Statistical data categories\n",
        "classes = np.unique(Y_train)\n",
        "classes"
      ]
    },
    {
      "cell_type": "markdown",
      "id": "5230973e",
      "metadata": {
        "id": "5230973e"
      },
      "source": [
        "### 1.2 Data Preprocessing"
      ]
    },
    {
      "cell_type": "code",
      "execution_count": null,
      "id": "e162212d",
      "metadata": {
        "id": "e162212d"
      },
      "outputs": [],
      "source": [
        "def stratified_train_test_split(X, y, test_size=0.2, random_seed=None):\n",
        "    \"\"\"\n",
        "    Stratified sampling-based train-test split implemented using NumPy.\n",
        "\n",
        "    :param X: Feature array, shape (N, d), where N is the number of samples and d is the feature dimension\n",
        "    :param y: Label array, shape (N, )\n",
        "    :param test_size: Proportion of the test set (0.0 ~ 1.0)\n",
        "    :param random_seed: Random seed for reproducibility\n",
        "    :return: (X_train, X_test, y_train, y_test)\n",
        "    \"\"\"\n",
        "    if random_seed is not None:\n",
        "        np.random.seed(random_seed)\n",
        "\n",
        "    # Find all unique classes in the labels and their corresponding indices\n",
        "    unique_labels = np.unique(y)\n",
        "\n",
        "    train_indices = []\n",
        "    test_indices = []\n",
        "\n",
        "    for label in unique_labels:\n",
        "        # Find all indices of samples belonging to the current class\n",
        "        label_indices = np.where(y == label)[0]\n",
        "\n",
        "        # Shuffle the indices of the current class to avoid order bias\n",
        "        np.random.shuffle(label_indices)\n",
        "\n",
        "        # Calculate the number of samples to allocate to the test set\n",
        "        test_count = int(len(label_indices) * test_size)\n",
        "\n",
        "        # Assign the first test_count samples to the test set, and the rest to the train set\n",
        "        test_indices.append(label_indices[:test_count])\n",
        "        train_indices.append(label_indices[test_count:])\n",
        "\n",
        "    # Concatenate indices from all classes\n",
        "    train_indices = np.concatenate(train_indices)\n",
        "    test_indices = np.concatenate(test_indices)\n",
        "\n",
        "    # Optionally shuffle the train and test indices further\n",
        "    np.random.shuffle(train_indices)\n",
        "    np.random.shuffle(test_indices)\n",
        "\n",
        "    # Split the data based on the indices\n",
        "    X_train, X_test = X[train_indices], X[test_indices]\n",
        "    y_train, y_test = y[train_indices], y[test_indices]\n",
        "\n",
        "    return X_train, X_test, y_train, y_test"
      ]
    },
    {
      "cell_type": "code",
      "execution_count": null,
      "id": "2ad832b3",
      "metadata": {
        "id": "2ad832b3"
      },
      "outputs": [],
      "source": [
        "def classification_report_numpy(y_true, y_pred, average='macro'):\n",
        "    \"\"\"\n",
        "    Compute multi-class Precision, Recall, and F1 using only NumPy.\n",
        "\n",
        "    :param y_true: True labels, shape (N,)\n",
        "    :param y_pred: Predicted labels, shape (N,)\n",
        "    :param average: Specify averaging method, options are 'macro' or 'micro'\n",
        "    :return: (precision, recall, f1)\n",
        "             - If average='macro', returns macro-averaged (P, R, F1)\n",
        "             - If average='micro', returns micro-averaged (P, R, F1)\n",
        "    \"\"\"\n",
        "    # Collect all classes and create an index mapping (if needed)\n",
        "    classes = np.unique(np.concatenate((y_true, y_pred)))\n",
        "    num_classes = len(classes)\n",
        "\n",
        "    # Build confusion matrix\n",
        "    conf_mat = np.zeros((num_classes, num_classes), dtype=np.int64)\n",
        "\n",
        "    # Create a mapping dictionary from label to index\n",
        "    label_to_index = {label: idx for idx, label in enumerate(classes)}\n",
        "\n",
        "    for t, p in zip(y_true, y_pred):\n",
        "        i = label_to_index[t]\n",
        "        j = label_to_index[p]\n",
        "        conf_mat[i, j] += 1\n",
        "\n",
        "    if average == 'macro':\n",
        "        # Macro average: compute for each class and then average\n",
        "        precisions = []\n",
        "        recalls = []\n",
        "        f1s = []\n",
        "        for i in range(num_classes):\n",
        "            TP = conf_mat[i, i]\n",
        "            FP = conf_mat[:, i].sum() - TP\n",
        "            FN = conf_mat[i, :].sum() - TP\n",
        "\n",
        "            prec = TP / (TP + FP) if (TP + FP) != 0 else 0.0\n",
        "            rec = TP / (TP + FN) if (TP + FN) != 0 else 0.0\n",
        "            f1 = 2 * prec * rec / (prec + rec) if (prec + rec) != 0 else 0.0\n",
        "\n",
        "            precisions.append(prec)\n",
        "            recalls.append(rec)\n",
        "            f1s.append(f1)\n",
        "\n",
        "        precision_macro = np.mean(precisions)\n",
        "        recall_macro = np.mean(recalls)\n",
        "        f1_macro = np.mean(f1s)\n",
        "        return precision_macro, recall_macro, f1_macro\n",
        "\n",
        "    elif average == 'micro':\n",
        "        # Micro average: compute based on global TP, FP, FN\n",
        "        TP_total = np.diag(conf_mat).sum()\n",
        "        # For each column: column sum - diagonal element, i.e., all false positives in the column\n",
        "        FP_total = conf_mat.sum(axis=0) - np.diag(conf_mat)\n",
        "        # For each row: row sum - diagonal element, i.e., all false negatives in the row\n",
        "        FN_total = conf_mat.sum(axis=1) - np.diag(conf_mat)\n",
        "\n",
        "        FP_total = FP_total.sum()\n",
        "        FN_total = FN_total.sum()\n",
        "\n",
        "        precision_micro = TP_total / (TP_total + FP_total) if (TP_total + FP_total) != 0 else 0.0\n",
        "        recall_micro = TP_total / (TP_total + FN_total) if (TP_total + FN_total) != 0 else 0.0\n",
        "        f1_micro = 2 * precision_micro * recall_micro / (precision_micro + recall_micro) \\\n",
        "            if (precision_micro + recall_micro) != 0 else 0.0\n",
        "\n",
        "        return precision_micro, recall_micro, f1_micro\n",
        "\n",
        "    else:\n",
        "        raise ValueError(\"Unsupported average type. Use 'macro' or 'micro'.\")"
      ]
    },
    {
      "cell_type": "code",
      "execution_count": null,
      "id": "054dcf63",
      "metadata": {
        "id": "054dcf63",
        "outputId": "80d224c1-6c6a-4554-e784-7cf7adb6cf8a"
      },
      "outputs": [
        {
          "data": {
            "text/plain": [
              "((40000, 128), (40000,), (10000, 128), (10000,))"
            ]
          },
          "execution_count": 9,
          "metadata": {},
          "output_type": "execute_result"
        }
      ],
      "source": [
        "# Stratified train-test split\n",
        "X_train, X_val, Y_train, Y_val = stratified_train_test_split(X_train, Y_train, test_size=0.2, random_seed=42)\n",
        "X_train.shape, Y_train.shape, X_test.shape, Y_test.shape"
      ]
    },
    {
      "cell_type": "code",
      "execution_count": null,
      "id": "fd0a02a5",
      "metadata": {
        "id": "fd0a02a5",
        "outputId": "37da282e-82a9-42a0-c16d-97b5bcbbab2d"
      },
      "outputs": [
        {
          "data": {
            "text/plain": [
              "(6    4000\n",
              " 7    4000\n",
              " 8    4000\n",
              " 3    4000\n",
              " 2    4000\n",
              " 1    4000\n",
              " 4    4000\n",
              " 9    4000\n",
              " 0    4000\n",
              " 5    4000\n",
              " Name: count, dtype: int64,\n",
              " 3    1000\n",
              " 8    1000\n",
              " 0    1000\n",
              " 6    1000\n",
              " 1    1000\n",
              " 9    1000\n",
              " 5    1000\n",
              " 7    1000\n",
              " 4    1000\n",
              " 2    1000\n",
              " Name: count, dtype: int64)"
            ]
          },
          "execution_count": 10,
          "metadata": {},
          "output_type": "execute_result"
        }
      ],
      "source": [
        "# Check the distribution of classes in the training and val sets\n",
        "pd.Series(Y_train).value_counts(), pd.Series(Y_test).value_counts()\n"
      ]
    },
    {
      "cell_type": "markdown",
      "id": "4cba2635",
      "metadata": {
        "id": "4cba2635"
      },
      "source": [
        "## 2. Grid Search"
      ]
    },
    {
      "cell_type": "code",
      "execution_count": null,
      "id": "fa98f263",
      "metadata": {
        "id": "fa98f263"
      },
      "outputs": [],
      "source": [
        "input_dim = 128\n",
        "hidden_dims = [64, 32]\n",
        "output_dim = 10\n",
        "# learning_rate = 0.001\n",
        "momentum = 0.9\n",
        "num_epochs = 200\n",
        "batch_size = 100\n"
      ]
    },
    {
      "cell_type": "markdown",
      "id": "4c581466",
      "metadata": {
        "id": "4c581466"
      },
      "source": [
        "### 2.1 Adam Optimizer for Grid Search"
      ]
    },
    {
      "cell_type": "code",
      "execution_count": null,
      "id": "e0f06bed",
      "metadata": {
        "id": "e0f06bed",
        "outputId": "e387867d-de06-4590-b585-5505f9cd1b77"
      },
      "outputs": [
        {
          "name": "stderr",
          "output_type": "stream",
          "text": [
            "Adam Hyperparameter Search: 100%|██████████| 27/27 [35:23<00:00, 78.65s/combination]"
          ]
        },
        {
          "name": "stdout",
          "output_type": "stream",
          "text": [
            "Top 5 Adam Hyperparameter Configurations:\n",
            "   learning_rate  weight_decay  dropout_rate  test_accuracy\n",
            "0          0.001       0.00000           0.1         0.5215\n",
            "1          0.010       0.00001           0.1         0.5196\n",
            "2          0.005       0.00000           0.1         0.5183\n",
            "3          0.001       0.00010           0.1         0.5179\n",
            "4          0.001       0.00001           0.1         0.5176\n"
          ]
        },
        {
          "name": "stderr",
          "output_type": "stream",
          "text": [
            "\n"
          ]
        }
      ],
      "source": [
        "\n",
        "# Define hyperparameter search space for Adam\n",
        "param_grid = {\n",
        "    'learning_rate': [0.001, 0.005, 0.01],\n",
        "    'weight_decay': [0.0, 1e-5, 1e-4],\n",
        "    'dropout_rate': [0.1, 0.2, 0.3]\n",
        "}\n",
        "\n",
        "# Calculate total combinations for Adam\n",
        "total_combinations_adam = len(param_grid['learning_rate']) * len(param_grid['weight_decay']) * len(param_grid['dropout_rate'])\n",
        "# Initialize tqdm progress bar for Adam\n",
        "adam_tqdm = tqdm(total=total_combinations_adam, desc=\"Adam Hyperparameter Search\", unit=\"combination\")\n",
        "\n",
        "adam_search_results = []\n",
        "\n",
        "# Manually iterate over all combinations (no itertools)\n",
        "for lr in param_grid['learning_rate']:\n",
        "    for wd in param_grid['weight_decay']:\n",
        "        for drop in param_grid['dropout_rate']:\n",
        "            optimizer = Adam()\n",
        "            model = MLP(input_dim, hidden_dims, output_dim, dropout_rate=drop, weight_decay=wd, optimizer=optimizer)\n",
        "            trainer = MiniBatchFit(model, optimizer, X_train, Y_train,\n",
        "                                   output_dim, num_epochs=num_epochs,\n",
        "                                   batch_size=batch_size,\n",
        "                                   learning_rate=lr, write = False)\n",
        "            trainer.fit()\n",
        "            _, accuracy = model.predict_and_evaluate(X_test, Y_test)\n",
        "            adam_search_results.append({\n",
        "                'learning_rate': lr,\n",
        "                'weight_decay': wd,\n",
        "                'dropout_rate': drop,\n",
        "                'test_accuracy': round(accuracy, 4)\n",
        "            })\n",
        "            # Update progress bar\n",
        "            adam_tqdm.update(1)\n",
        "\n",
        "# Close the progress bar\n",
        "adam_tqdm.close()\n",
        "\n",
        "# Save results to DataFrame\n",
        "adam_result_df = pd.DataFrame(adam_search_results)\n",
        "adam_result_df = adam_result_df.sort_values(by='test_accuracy', ascending=False).reset_index(drop=True)\n",
        "\n",
        "# Show top 5 configurations\n",
        "print(\"Top 5 Adam Hyperparameter Configurations:\")\n",
        "print(adam_result_df.head())"
      ]
    },
    {
      "cell_type": "markdown",
      "id": "51d68b70",
      "metadata": {
        "id": "51d68b70"
      },
      "source": [
        "#### 2.1.1 Optimal model training based on the Adam optimizer"
      ]
    },
    {
      "cell_type": "code",
      "execution_count": null,
      "id": "afe43ac2",
      "metadata": {
        "id": "afe43ac2",
        "outputId": "83003af9-dc82-4296-bda7-014d006355ef"
      },
      "outputs": [
        {
          "name": "stdout",
          "output_type": "stream",
          "text": [
            "Epoch 1/200, Loss: 1.9661\n",
            "Epoch 2/200, Loss: 1.7698\n",
            "Epoch 3/200, Loss: 1.7163\n",
            "Epoch 4/200, Loss: 1.6858\n",
            "Epoch 5/200, Loss: 1.6609\n",
            "Epoch 6/200, Loss: 1.6450\n",
            "Epoch 7/200, Loss: 1.6300\n",
            "Epoch 8/200, Loss: 1.6173\n",
            "Epoch 9/200, Loss: 1.6038\n",
            "Epoch 10/200, Loss: 1.5935\n",
            "Epoch 11/200, Loss: 1.5807\n",
            "Epoch 12/200, Loss: 1.5743\n",
            "Epoch 13/200, Loss: 1.5646\n",
            "Epoch 14/200, Loss: 1.5591\n",
            "Epoch 15/200, Loss: 1.5473\n",
            "Epoch 16/200, Loss: 1.5427\n",
            "Epoch 17/200, Loss: 1.5344\n",
            "Epoch 18/200, Loss: 1.5257\n",
            "Epoch 19/200, Loss: 1.5214\n",
            "Epoch 20/200, Loss: 1.5139\n",
            "Epoch 21/200, Loss: 1.5098\n",
            "Epoch 22/200, Loss: 1.5024\n",
            "Epoch 23/200, Loss: 1.4974\n",
            "Epoch 24/200, Loss: 1.4906\n",
            "Epoch 25/200, Loss: 1.4839\n",
            "Epoch 26/200, Loss: 1.4787\n",
            "Epoch 27/200, Loss: 1.4745\n",
            "Epoch 28/200, Loss: 1.4705\n",
            "Epoch 29/200, Loss: 1.4705\n",
            "Epoch 30/200, Loss: 1.4616\n",
            "Epoch 31/200, Loss: 1.4606\n",
            "Epoch 32/200, Loss: 1.4537\n",
            "Epoch 33/200, Loss: 1.4484\n",
            "Epoch 34/200, Loss: 1.4479\n",
            "Epoch 35/200, Loss: 1.4445\n",
            "Epoch 36/200, Loss: 1.4402\n",
            "Epoch 37/200, Loss: 1.4391\n",
            "Epoch 38/200, Loss: 1.4306\n",
            "Epoch 39/200, Loss: 1.4290\n",
            "Epoch 40/200, Loss: 1.4233\n",
            "Epoch 41/200, Loss: 1.4203\n",
            "Epoch 42/200, Loss: 1.4164\n",
            "Epoch 43/200, Loss: 1.4136\n",
            "Epoch 44/200, Loss: 1.4133\n",
            "Epoch 45/200, Loss: 1.4092\n",
            "Epoch 46/200, Loss: 1.4035\n",
            "Epoch 47/200, Loss: 1.4019\n",
            "Epoch 48/200, Loss: 1.4023\n",
            "Epoch 49/200, Loss: 1.3990\n",
            "Epoch 50/200, Loss: 1.3955\n",
            "Epoch 51/200, Loss: 1.3919\n",
            "Epoch 52/200, Loss: 1.3898\n",
            "Epoch 53/200, Loss: 1.3931\n",
            "Epoch 54/200, Loss: 1.3866\n",
            "Epoch 55/200, Loss: 1.3858\n",
            "Epoch 56/200, Loss: 1.3802\n",
            "Epoch 57/200, Loss: 1.3781\n",
            "Epoch 58/200, Loss: 1.3743\n",
            "Epoch 59/200, Loss: 1.3718\n",
            "Epoch 60/200, Loss: 1.3703\n",
            "Epoch 61/200, Loss: 1.3749\n",
            "Epoch 62/200, Loss: 1.3716\n",
            "Epoch 63/200, Loss: 1.3642\n",
            "Epoch 64/200, Loss: 1.3649\n",
            "Epoch 65/200, Loss: 1.3638\n",
            "Epoch 66/200, Loss: 1.3615\n",
            "Epoch 67/200, Loss: 1.3585\n",
            "Epoch 68/200, Loss: 1.3586\n",
            "Epoch 69/200, Loss: 1.3560\n",
            "Epoch 70/200, Loss: 1.3530\n",
            "Epoch 71/200, Loss: 1.3503\n",
            "Epoch 72/200, Loss: 1.3447\n",
            "Epoch 73/200, Loss: 1.3500\n",
            "Epoch 74/200, Loss: 1.3447\n",
            "Epoch 75/200, Loss: 1.3445\n",
            "Epoch 76/200, Loss: 1.3419\n",
            "Epoch 77/200, Loss: 1.3466\n",
            "Epoch 78/200, Loss: 1.3404\n",
            "Epoch 79/200, Loss: 1.3366\n",
            "Epoch 80/200, Loss: 1.3333\n",
            "Epoch 81/200, Loss: 1.3373\n",
            "Epoch 82/200, Loss: 1.3328\n",
            "Epoch 83/200, Loss: 1.3308\n",
            "Epoch 84/200, Loss: 1.3298\n",
            "Epoch 85/200, Loss: 1.3302\n",
            "Epoch 86/200, Loss: 1.3263\n",
            "Epoch 87/200, Loss: 1.3220\n",
            "Epoch 88/200, Loss: 1.3265\n",
            "Epoch 89/200, Loss: 1.3229\n",
            "Epoch 90/200, Loss: 1.3204\n",
            "Epoch 91/200, Loss: 1.3212\n",
            "Epoch 92/200, Loss: 1.3221\n",
            "Epoch 93/200, Loss: 1.3233\n",
            "Epoch 94/200, Loss: 1.3169\n",
            "Epoch 95/200, Loss: 1.3200\n",
            "Epoch 96/200, Loss: 1.3196\n",
            "Epoch 97/200, Loss: 1.3157\n",
            "Epoch 98/200, Loss: 1.3143\n",
            "Epoch 99/200, Loss: 1.3123\n",
            "Epoch 100/200, Loss: 1.3087\n",
            "Epoch 101/200, Loss: 1.3106\n",
            "Epoch 102/200, Loss: 1.3123\n",
            "Epoch 103/200, Loss: 1.3030\n",
            "Epoch 104/200, Loss: 1.3133\n",
            "Epoch 105/200, Loss: 1.3114\n",
            "Epoch 106/200, Loss: 1.3058\n",
            "Epoch 107/200, Loss: 1.3087\n",
            "Epoch 108/200, Loss: 1.3044\n",
            "Epoch 109/200, Loss: 1.3009\n",
            "Epoch 110/200, Loss: 1.3036\n",
            "Epoch 111/200, Loss: 1.3037\n",
            "Epoch 112/200, Loss: 1.2982\n",
            "Epoch 113/200, Loss: 1.3051\n",
            "Epoch 114/200, Loss: 1.3010\n",
            "Epoch 115/200, Loss: 1.2984\n",
            "Epoch 116/200, Loss: 1.3011\n",
            "Epoch 117/200, Loss: 1.3000\n",
            "Epoch 118/200, Loss: 1.2938\n",
            "Epoch 119/200, Loss: 1.2982\n",
            "Epoch 120/200, Loss: 1.2943\n",
            "Epoch 121/200, Loss: 1.2872\n",
            "Epoch 122/200, Loss: 1.2920\n",
            "Epoch 123/200, Loss: 1.2979\n",
            "Epoch 124/200, Loss: 1.2930\n",
            "Epoch 125/200, Loss: 1.2958\n",
            "Epoch 126/200, Loss: 1.2902\n",
            "Epoch 127/200, Loss: 1.2911\n",
            "Epoch 128/200, Loss: 1.2924\n",
            "Epoch 129/200, Loss: 1.2911\n",
            "Epoch 130/200, Loss: 1.2878\n",
            "Epoch 131/200, Loss: 1.2909\n",
            "Epoch 132/200, Loss: 1.2908\n",
            "Epoch 133/200, Loss: 1.2881\n",
            "Epoch 134/200, Loss: 1.2846\n",
            "Epoch 135/200, Loss: 1.2840\n",
            "Epoch 136/200, Loss: 1.2881\n",
            "Epoch 137/200, Loss: 1.2860\n",
            "Epoch 138/200, Loss: 1.2843\n",
            "Epoch 139/200, Loss: 1.2857\n",
            "Epoch 140/200, Loss: 1.2785\n",
            "Epoch 141/200, Loss: 1.2850\n",
            "Epoch 142/200, Loss: 1.2853\n",
            "Epoch 143/200, Loss: 1.2836\n",
            "Epoch 144/200, Loss: 1.2813\n",
            "Epoch 145/200, Loss: 1.2831\n",
            "Epoch 146/200, Loss: 1.2858\n",
            "Epoch 147/200, Loss: 1.2798\n",
            "Epoch 148/200, Loss: 1.2791\n",
            "Epoch 149/200, Loss: 1.2789\n",
            "Epoch 150/200, Loss: 1.2777\n",
            "Epoch 151/200, Loss: 1.2770\n",
            "Epoch 152/200, Loss: 1.2748\n",
            "Epoch 153/200, Loss: 1.2764\n",
            "Epoch 154/200, Loss: 1.2763\n",
            "Epoch 155/200, Loss: 1.2762\n",
            "Epoch 156/200, Loss: 1.2715\n",
            "Epoch 157/200, Loss: 1.2749\n",
            "Epoch 158/200, Loss: 1.2718\n",
            "Epoch 159/200, Loss: 1.2735\n",
            "Epoch 160/200, Loss: 1.2709\n",
            "Epoch 161/200, Loss: 1.2764\n",
            "Epoch 162/200, Loss: 1.2705\n",
            "Epoch 163/200, Loss: 1.2686\n",
            "Epoch 164/200, Loss: 1.2717\n",
            "Epoch 165/200, Loss: 1.2691\n",
            "Epoch 166/200, Loss: 1.2674\n",
            "Epoch 167/200, Loss: 1.2724\n",
            "Epoch 168/200, Loss: 1.2712\n",
            "Epoch 169/200, Loss: 1.2680\n",
            "Epoch 170/200, Loss: 1.2669\n",
            "Epoch 171/200, Loss: 1.2691\n",
            "Epoch 172/200, Loss: 1.2694\n",
            "Epoch 173/200, Loss: 1.2653\n",
            "Epoch 174/200, Loss: 1.2638\n",
            "Epoch 175/200, Loss: 1.2669\n",
            "Epoch 176/200, Loss: 1.2656\n",
            "Epoch 177/200, Loss: 1.2664\n",
            "Epoch 178/200, Loss: 1.2647\n",
            "Epoch 179/200, Loss: 1.2650\n",
            "Epoch 180/200, Loss: 1.2666\n",
            "Epoch 181/200, Loss: 1.2644\n",
            "Epoch 182/200, Loss: 1.2691\n",
            "Epoch 183/200, Loss: 1.2582\n",
            "Epoch 184/200, Loss: 1.2602\n",
            "Epoch 185/200, Loss: 1.2665\n",
            "Epoch 186/200, Loss: 1.2592\n",
            "Epoch 187/200, Loss: 1.2643\n",
            "Epoch 188/200, Loss: 1.2560\n",
            "Epoch 189/200, Loss: 1.2625\n",
            "Epoch 190/200, Loss: 1.2655\n",
            "Epoch 191/200, Loss: 1.2603\n",
            "Epoch 192/200, Loss: 1.2649\n",
            "Epoch 193/200, Loss: 1.2637\n",
            "Epoch 194/200, Loss: 1.2581\n",
            "Epoch 195/200, Loss: 1.2579\n",
            "Epoch 196/200, Loss: 1.2581\n",
            "Epoch 197/200, Loss: 1.2607\n",
            "Epoch 198/200, Loss: 1.2625\n",
            "Epoch 199/200, Loss: 1.2577\n",
            "Epoch 200/200, Loss: 1.2555\n"
          ]
        }
      ],
      "source": [
        "\n",
        "best_cfg = adam_result_df.iloc[0]\n",
        "best_lr = best_cfg['learning_rate']\n",
        "best_wd = best_cfg['weight_decay']\n",
        "best_drop = best_cfg['dropout_rate']\n",
        "\n",
        "#\n",
        "optimizer1 = Adam()\n",
        "model_Adam = MLP(input_dim, hidden_dims, output_dim,\n",
        "                 dropout_rate=best_drop,\n",
        "                 weight_decay=best_wd,\n",
        "                 optimizer=optimizer1)\n",
        "Adam_Fit = MiniBatchFit(model_Adam, optimizer1,\n",
        "             X_train, Y_train,\n",
        "             output_dim,\n",
        "             num_epochs=num_epochs,\n",
        "             batch_size=batch_size,\n",
        "             learning_rate=best_lr)\n",
        "Adam_Fit.fit()\n"
      ]
    },
    {
      "cell_type": "markdown",
      "id": "fc8d38c9",
      "metadata": {
        "id": "fc8d38c9"
      },
      "source": [
        "#### 2.1.2 Evaluation of Validation Set"
      ]
    },
    {
      "cell_type": "code",
      "execution_count": null,
      "id": "0aeccea3",
      "metadata": {
        "id": "0aeccea3",
        "outputId": "8a01fd7d-ad54-40ad-b317-90cd6a6ec6af"
      },
      "outputs": [
        {
          "name": "stdout",
          "output_type": "stream",
          "text": [
            "Validation Accuracy: 0.5188\n",
            "Validation F1 Score: 0.5114\n",
            "Validation Recall: 0.5188\n",
            "Validation Precision: 0.5153\n"
          ]
        }
      ],
      "source": [
        "predictions_train_Adam, Adam_Train_acc = model_Adam.predict_and_evaluate(X_val, Y_val)\n",
        "precision_val,recall_val,f1_val = classification_report_numpy(Y_val, predictions_train_Adam, average='macro')\n",
        "print(f\"Validation Accuracy: {Adam_Train_acc:.4f}\")\n",
        "print(f\"Validation F1 Score: {f1_val:.4f}\")\n",
        "print(f\"Validation Recall: {recall_val:.4f}\")\n",
        "print(f\"Validation Precision: {precision_val:.4f}\")"
      ]
    },
    {
      "cell_type": "markdown",
      "id": "4cdead35",
      "metadata": {
        "id": "4cdead35"
      },
      "source": [
        "#### 2.1.3 Evaluation of Test Set"
      ]
    },
    {
      "cell_type": "code",
      "execution_count": null,
      "id": "516ebbc6",
      "metadata": {
        "id": "516ebbc6",
        "outputId": "aa0b736c-8b37-40ad-b2c9-50702364c390"
      },
      "outputs": [
        {
          "name": "stdout",
          "output_type": "stream",
          "text": [
            "Test Accuracy: 0.5142\n",
            "Test F1 Score: 0.5057\n",
            "Test Recall: 0.5142\n",
            "Test Precision: 0.5096\n"
          ]
        }
      ],
      "source": [
        "predictions_test_Adam,Adam_Test_acc = model_Adam.predict_and_evaluate(X_test, Y_test)\n",
        "precision_test,recall_test,f1_test = classification_report_numpy(Y_test, predictions_test_Adam, average='macro')\n",
        "print(f\"Test Accuracy: {Adam_Test_acc:.4f}\")\n",
        "print(f\"Test F1 Score: {f1_test:.4f}\")\n",
        "print(f\"Test Recall: {recall_test:.4f}\")\n",
        "print(f\"Test Precision: {precision_test:.4f}\")"
      ]
    },
    {
      "cell_type": "markdown",
      "id": "eb4151cb",
      "metadata": {
        "id": "eb4151cb"
      },
      "source": [
        "### 2.2 SGD Optimizer for Grid Search"
      ]
    },
    {
      "cell_type": "code",
      "execution_count": null,
      "id": "dde8c165",
      "metadata": {
        "id": "dde8c165",
        "outputId": "bd5770fc-ddb5-401c-945a-e240e35c5a03"
      },
      "outputs": [
        {
          "name": "stderr",
          "output_type": "stream",
          "text": [
            "SGDM Hyperparameter Search: 100%|██████████| 54/54 [1:01:24<00:00, 68.23s/combination]"
          ]
        },
        {
          "name": "stdout",
          "output_type": "stream",
          "text": [
            "Top 5 SGDM Hyperparameter Configurations:\n",
            "   learning_rate  momentum  dropout_rate  weight_decay  test_accuracy\n",
            "0          0.010       0.5           0.1       0.00000         0.5233\n",
            "1          0.005       0.9           0.1       0.00010         0.5229\n",
            "2          0.010       0.5           0.1       0.00010         0.5192\n",
            "3          0.005       0.9           0.1       0.00001         0.5183\n",
            "4          0.005       0.5           0.1       0.00001         0.5178\n"
          ]
        },
        {
          "name": "stderr",
          "output_type": "stream",
          "text": [
            "\n"
          ]
        }
      ],
      "source": [
        "SGDM_param_grid = {\n",
        "    'learning_rate': [0.001, 0.005, 0.01],\n",
        "    'momentum': [0.5, 0.9],\n",
        "    'dropout_rate': [0.1, 0.2, 0.3],\n",
        "    'weight_decay': [0.0, 1e-5, 1e-4]\n",
        "}\n",
        "\n",
        "# Calculate total combinations for SGDM\n",
        "total_combinations_sgdm = len(SGDM_param_grid['learning_rate']) * len(SGDM_param_grid['momentum']) * \\\n",
        "    len(SGDM_param_grid['dropout_rate']) * len(SGDM_param_grid['weight_decay'])\n",
        "# Initialize tqdm progress bar for SGDM\n",
        "sgdm_tqdm = tqdm(total=total_combinations_sgdm, desc=\"SGDM Hyperparameter Search\", unit=\"combination\")\n",
        "\n",
        "SGDM_search_results = []\n",
        "\n",
        "for lr in SGDM_param_grid['learning_rate']:\n",
        "    for mom in SGDM_param_grid['momentum']:\n",
        "        for drop in SGDM_param_grid['dropout_rate']:\n",
        "            for wd in SGDM_param_grid['weight_decay']:\n",
        "                optimizer = SGDMomentum(momentum=mom)\n",
        "                model = MLP(input_dim, hidden_dims, output_dim, dropout_rate=drop, weight_decay=wd, optimizer=optimizer)\n",
        "                trainer = MiniBatchFit(model, optimizer, X_train, Y_train,\n",
        "                                       output_dim, num_epochs=num_epochs,\n",
        "                                       batch_size=batch_size,\n",
        "                                       learning_rate=lr, write = False)\n",
        "                trainer.fit()\n",
        "                _, accuracy = model.predict_and_evaluate(X_test, Y_test)\n",
        "                SGDM_search_results.append({\n",
        "                    'learning_rate': lr,\n",
        "                    'momentum': mom,\n",
        "                    'dropout_rate': drop,\n",
        "                    'weight_decay': wd,\n",
        "                    'test_accuracy': round(accuracy, 4)\n",
        "                })\n",
        "                # Update progress bar\n",
        "                sgdm_tqdm.update(1)\n",
        "\n",
        "# Close the progress bar\n",
        "sgdm_tqdm.close()\n",
        "\n",
        "# Save results to DataFrame\n",
        "SGDM_result_df = pd.DataFrame(SGDM_search_results)\n",
        "SGDM_result_df = SGDM_result_df.sort_values(by='test_accuracy', ascending=False).reset_index(drop=True)\n",
        "\n",
        "# Save best SGDM hyperparameters\n",
        "best_SGDM_cfg = SGDM_result_df.iloc[0]\n",
        "best_SGDM_lr = best_SGDM_cfg['learning_rate']\n",
        "best_SGDM_mom = best_SGDM_cfg['momentum']\n",
        "best_SGDM_wd = best_SGDM_cfg['weight_decay']\n",
        "best_SGDM_drop = best_SGDM_cfg['dropout_rate']\n",
        "\n",
        "print(\"Top 5 SGDM Hyperparameter Configurations:\")\n",
        "print(SGDM_result_df.head())"
      ]
    },
    {
      "cell_type": "markdown",
      "id": "7726b14a",
      "metadata": {
        "id": "7726b14a"
      },
      "source": [
        "### 2.2.1 Optimal model training based on the SGD optimizer"
      ]
    },
    {
      "cell_type": "code",
      "execution_count": null,
      "id": "d541ae2a",
      "metadata": {
        "id": "d541ae2a",
        "outputId": "7c164c39-20da-4ebd-bc7e-502366827952"
      },
      "outputs": [
        {
          "name": "stdout",
          "output_type": "stream",
          "text": [
            "Epoch 1/200, Loss: 2.1423\n",
            "Epoch 2/200, Loss: 1.9238\n",
            "Epoch 3/200, Loss: 1.8435\n",
            "Epoch 4/200, Loss: 1.7982\n",
            "Epoch 5/200, Loss: 1.7582\n",
            "Epoch 6/200, Loss: 1.7291\n",
            "Epoch 7/200, Loss: 1.7044\n",
            "Epoch 8/200, Loss: 1.6820\n",
            "Epoch 9/200, Loss: 1.6624\n",
            "Epoch 10/200, Loss: 1.6473\n",
            "Epoch 11/200, Loss: 1.6344\n",
            "Epoch 12/200, Loss: 1.6186\n",
            "Epoch 13/200, Loss: 1.6066\n",
            "Epoch 14/200, Loss: 1.5967\n",
            "Epoch 15/200, Loss: 1.5873\n",
            "Epoch 16/200, Loss: 1.5797\n",
            "Epoch 17/200, Loss: 1.5715\n",
            "Epoch 18/200, Loss: 1.5654\n",
            "Epoch 19/200, Loss: 1.5551\n",
            "Epoch 20/200, Loss: 1.5463\n",
            "Epoch 21/200, Loss: 1.5415\n",
            "Epoch 22/200, Loss: 1.5344\n",
            "Epoch 23/200, Loss: 1.5269\n",
            "Epoch 24/200, Loss: 1.5238\n",
            "Epoch 25/200, Loss: 1.5155\n",
            "Epoch 26/200, Loss: 1.5081\n",
            "Epoch 27/200, Loss: 1.5026\n",
            "Epoch 28/200, Loss: 1.4984\n",
            "Epoch 29/200, Loss: 1.4933\n",
            "Epoch 30/200, Loss: 1.4864\n",
            "Epoch 31/200, Loss: 1.4811\n",
            "Epoch 32/200, Loss: 1.4778\n",
            "Epoch 33/200, Loss: 1.4754\n",
            "Epoch 34/200, Loss: 1.4674\n",
            "Epoch 35/200, Loss: 1.4664\n",
            "Epoch 36/200, Loss: 1.4636\n",
            "Epoch 37/200, Loss: 1.4561\n",
            "Epoch 38/200, Loss: 1.4537\n",
            "Epoch 39/200, Loss: 1.4468\n",
            "Epoch 40/200, Loss: 1.4452\n",
            "Epoch 41/200, Loss: 1.4400\n",
            "Epoch 42/200, Loss: 1.4349\n",
            "Epoch 43/200, Loss: 1.4338\n",
            "Epoch 44/200, Loss: 1.4289\n",
            "Epoch 45/200, Loss: 1.4269\n",
            "Epoch 46/200, Loss: 1.4247\n",
            "Epoch 47/200, Loss: 1.4226\n",
            "Epoch 48/200, Loss: 1.4187\n",
            "Epoch 49/200, Loss: 1.4147\n",
            "Epoch 50/200, Loss: 1.4119\n",
            "Epoch 51/200, Loss: 1.4053\n",
            "Epoch 52/200, Loss: 1.4070\n",
            "Epoch 53/200, Loss: 1.4049\n",
            "Epoch 54/200, Loss: 1.4021\n",
            "Epoch 55/200, Loss: 1.3973\n",
            "Epoch 56/200, Loss: 1.3917\n",
            "Epoch 57/200, Loss: 1.3970\n",
            "Epoch 58/200, Loss: 1.3922\n",
            "Epoch 59/200, Loss: 1.3881\n",
            "Epoch 60/200, Loss: 1.3837\n",
            "Epoch 61/200, Loss: 1.3844\n",
            "Epoch 62/200, Loss: 1.3820\n",
            "Epoch 63/200, Loss: 1.3800\n",
            "Epoch 64/200, Loss: 1.3779\n",
            "Epoch 65/200, Loss: 1.3759\n",
            "Epoch 66/200, Loss: 1.3745\n",
            "Epoch 67/200, Loss: 1.3690\n",
            "Epoch 68/200, Loss: 1.3672\n",
            "Epoch 69/200, Loss: 1.3686\n",
            "Epoch 70/200, Loss: 1.3656\n",
            "Epoch 71/200, Loss: 1.3636\n",
            "Epoch 72/200, Loss: 1.3602\n",
            "Epoch 73/200, Loss: 1.3632\n",
            "Epoch 74/200, Loss: 1.3556\n",
            "Epoch 75/200, Loss: 1.3533\n",
            "Epoch 76/200, Loss: 1.3546\n",
            "Epoch 77/200, Loss: 1.3530\n",
            "Epoch 78/200, Loss: 1.3504\n",
            "Epoch 79/200, Loss: 1.3463\n",
            "Epoch 80/200, Loss: 1.3502\n",
            "Epoch 81/200, Loss: 1.3501\n",
            "Epoch 82/200, Loss: 1.3455\n",
            "Epoch 83/200, Loss: 1.3378\n",
            "Epoch 84/200, Loss: 1.3425\n",
            "Epoch 85/200, Loss: 1.3412\n",
            "Epoch 86/200, Loss: 1.3387\n",
            "Epoch 87/200, Loss: 1.3383\n",
            "Epoch 88/200, Loss: 1.3381\n",
            "Epoch 89/200, Loss: 1.3335\n",
            "Epoch 90/200, Loss: 1.3340\n",
            "Epoch 91/200, Loss: 1.3356\n",
            "Epoch 92/200, Loss: 1.3293\n",
            "Epoch 93/200, Loss: 1.3320\n",
            "Epoch 94/200, Loss: 1.3331\n",
            "Epoch 95/200, Loss: 1.3281\n",
            "Epoch 96/200, Loss: 1.3306\n",
            "Epoch 97/200, Loss: 1.3252\n",
            "Epoch 98/200, Loss: 1.3262\n",
            "Epoch 99/200, Loss: 1.3242\n",
            "Epoch 100/200, Loss: 1.3253\n",
            "Epoch 101/200, Loss: 1.3206\n",
            "Epoch 102/200, Loss: 1.3195\n",
            "Epoch 103/200, Loss: 1.3185\n",
            "Epoch 104/200, Loss: 1.3175\n",
            "Epoch 105/200, Loss: 1.3184\n",
            "Epoch 106/200, Loss: 1.3189\n",
            "Epoch 107/200, Loss: 1.3169\n",
            "Epoch 108/200, Loss: 1.3096\n",
            "Epoch 109/200, Loss: 1.3139\n",
            "Epoch 110/200, Loss: 1.3126\n",
            "Epoch 111/200, Loss: 1.3122\n",
            "Epoch 112/200, Loss: 1.3109\n",
            "Epoch 113/200, Loss: 1.3114\n",
            "Epoch 114/200, Loss: 1.3089\n",
            "Epoch 115/200, Loss: 1.3092\n",
            "Epoch 116/200, Loss: 1.3088\n",
            "Epoch 117/200, Loss: 1.3061\n",
            "Epoch 118/200, Loss: 1.3067\n",
            "Epoch 119/200, Loss: 1.3042\n",
            "Epoch 120/200, Loss: 1.3046\n",
            "Epoch 121/200, Loss: 1.3020\n",
            "Epoch 122/200, Loss: 1.3018\n",
            "Epoch 123/200, Loss: 1.3002\n",
            "Epoch 124/200, Loss: 1.3012\n",
            "Epoch 125/200, Loss: 1.2992\n",
            "Epoch 126/200, Loss: 1.3013\n",
            "Epoch 127/200, Loss: 1.3024\n",
            "Epoch 128/200, Loss: 1.3010\n",
            "Epoch 129/200, Loss: 1.2977\n",
            "Epoch 130/200, Loss: 1.2979\n",
            "Epoch 131/200, Loss: 1.2961\n",
            "Epoch 132/200, Loss: 1.2983\n",
            "Epoch 133/200, Loss: 1.2983\n",
            "Epoch 134/200, Loss: 1.2920\n",
            "Epoch 135/200, Loss: 1.2950\n",
            "Epoch 136/200, Loss: 1.2970\n",
            "Epoch 137/200, Loss: 1.2949\n",
            "Epoch 138/200, Loss: 1.2934\n",
            "Epoch 139/200, Loss: 1.2922\n",
            "Epoch 140/200, Loss: 1.2943\n",
            "Epoch 141/200, Loss: 1.2883\n",
            "Epoch 142/200, Loss: 1.2902\n",
            "Epoch 143/200, Loss: 1.2884\n",
            "Epoch 144/200, Loss: 1.2937\n",
            "Epoch 145/200, Loss: 1.2873\n",
            "Epoch 146/200, Loss: 1.2904\n",
            "Epoch 147/200, Loss: 1.2877\n",
            "Epoch 148/200, Loss: 1.2843\n",
            "Epoch 149/200, Loss: 1.2882\n",
            "Epoch 150/200, Loss: 1.2867\n",
            "Epoch 151/200, Loss: 1.2837\n",
            "Epoch 152/200, Loss: 1.2848\n",
            "Epoch 153/200, Loss: 1.2863\n",
            "Epoch 154/200, Loss: 1.2815\n",
            "Epoch 155/200, Loss: 1.2797\n",
            "Epoch 156/200, Loss: 1.2835\n",
            "Epoch 157/200, Loss: 1.2810\n",
            "Epoch 158/200, Loss: 1.2811\n",
            "Epoch 159/200, Loss: 1.2805\n",
            "Epoch 160/200, Loss: 1.2830\n",
            "Epoch 161/200, Loss: 1.2785\n",
            "Epoch 162/200, Loss: 1.2813\n",
            "Epoch 163/200, Loss: 1.2805\n",
            "Epoch 164/200, Loss: 1.2799\n",
            "Epoch 165/200, Loss: 1.2794\n",
            "Epoch 166/200, Loss: 1.2802\n",
            "Epoch 167/200, Loss: 1.2752\n",
            "Epoch 168/200, Loss: 1.2775\n",
            "Epoch 169/200, Loss: 1.2771\n",
            "Epoch 170/200, Loss: 1.2753\n",
            "Epoch 171/200, Loss: 1.2745\n",
            "Epoch 172/200, Loss: 1.2753\n",
            "Epoch 173/200, Loss: 1.2709\n",
            "Epoch 174/200, Loss: 1.2788\n",
            "Epoch 175/200, Loss: 1.2742\n",
            "Epoch 176/200, Loss: 1.2769\n",
            "Epoch 177/200, Loss: 1.2767\n",
            "Epoch 178/200, Loss: 1.2690\n",
            "Epoch 179/200, Loss: 1.2701\n",
            "Epoch 180/200, Loss: 1.2712\n",
            "Epoch 181/200, Loss: 1.2690\n",
            "Epoch 182/200, Loss: 1.2689\n",
            "Epoch 183/200, Loss: 1.2714\n",
            "Epoch 184/200, Loss: 1.2712\n",
            "Epoch 185/200, Loss: 1.2720\n",
            "Epoch 186/200, Loss: 1.2710\n",
            "Epoch 187/200, Loss: 1.2670\n",
            "Epoch 188/200, Loss: 1.2698\n",
            "Epoch 189/200, Loss: 1.2697\n",
            "Epoch 190/200, Loss: 1.2644\n",
            "Epoch 191/200, Loss: 1.2677\n",
            "Epoch 192/200, Loss: 1.2619\n",
            "Epoch 193/200, Loss: 1.2646\n",
            "Epoch 194/200, Loss: 1.2623\n",
            "Epoch 195/200, Loss: 1.2645\n",
            "Epoch 196/200, Loss: 1.2632\n",
            "Epoch 197/200, Loss: 1.2611\n",
            "Epoch 198/200, Loss: 1.2578\n",
            "Epoch 199/200, Loss: 1.2646\n",
            "Epoch 200/200, Loss: 1.2629\n"
          ]
        }
      ],
      "source": [
        "# === SGDM: Final Model Training with Best Hyperparameters ===\n",
        "\n",
        "optimizer_SGDM = SGDMomentum(momentum=best_SGDM_mom)\n",
        "\n",
        "model_SGDM = MLP(input_dim, hidden_dims, output_dim,\n",
        "                 dropout_rate=best_SGDM_drop,\n",
        "                 weight_decay=best_SGDM_wd,\n",
        "                 optimizer=optimizer_SGDM)\n",
        "\n",
        "SGDM_Fit = MiniBatchFit(model_SGDM, optimizer_SGDM,\n",
        "                        X_train, Y_train,\n",
        "                        output_dim=output_dim,\n",
        "                        num_epochs=num_epochs,\n",
        "                        batch_size=batch_size,\n",
        "                        learning_rate=best_SGDM_lr)\n",
        "\n",
        "SGDM_Fit.fit()\n"
      ]
    },
    {
      "cell_type": "markdown",
      "id": "66ea4e91",
      "metadata": {
        "id": "66ea4e91"
      },
      "source": [
        "### 2.2.2 Evaluation of Validation Set"
      ]
    },
    {
      "cell_type": "code",
      "execution_count": null,
      "id": "f14f3900",
      "metadata": {
        "id": "f14f3900",
        "outputId": "fe780c08-c665-45ef-9e4f-b344e213b5cb"
      },
      "outputs": [
        {
          "name": "stdout",
          "output_type": "stream",
          "text": [
            "Validation Accuracy: 0.5196\n",
            "Validation F1 Score: 0.5127\n",
            "Validation Recall: 0.5196\n",
            "Validation Precision: 0.5139\n"
          ]
        }
      ],
      "source": [
        "# Get predictions and ignore accuracy here\n",
        "y_pred, SGD_Train_acc = model_SGDM.predict_and_evaluate(X_val, Y_val)\n",
        "\n",
        "# Evaluate metrics\n",
        "precision_val, recall_val, f1_val = classification_report_numpy(Y_val, y_pred, average='macro')\n",
        "print(f\"Validation Accuracy: {SGD_Train_acc:.4f}\")\n",
        "print(f\"Validation F1 Score: {f1_val:.4f}\")\n",
        "print(f\"Validation Recall: {recall_val:.4f}\")\n",
        "print(f\"Validation Precision: {precision_val:.4f}\")\n"
      ]
    },
    {
      "cell_type": "markdown",
      "id": "9c602219",
      "metadata": {
        "id": "9c602219"
      },
      "source": [
        "### 2.2.3 Evaluation of Test Set"
      ]
    },
    {
      "cell_type": "code",
      "execution_count": null,
      "id": "9bde938a",
      "metadata": {
        "id": "9bde938a",
        "outputId": "b9c85f6f-3af7-48ed-862b-fc6db813ff84"
      },
      "outputs": [
        {
          "name": "stdout",
          "output_type": "stream",
          "text": [
            "Test Accuracy: 0.5213\n",
            "Test F1 Score: 0.5142\n",
            "Test Recall: 0.5213\n",
            "Test Precision: 0.5153\n"
          ]
        }
      ],
      "source": [
        "y_pred_test, SGD_Test_acc = model_SGDM.predict_and_evaluate(X_test, Y_test)\n",
        "\n",
        "precision_test, recall_test, f1_test = classification_report_numpy(Y_test, y_pred_test, average='macro')\n",
        "print(f\"Test Accuracy: {SGD_Test_acc:.4f}\")\n",
        "print(f\"Test F1 Score: {f1_test:.4f}\")\n",
        "print(f\"Test Recall: {recall_test:.4f}\")\n",
        "print(f\"Test Precision: {precision_test:.4f}\")\n"
      ]
    },
    {
      "cell_type": "markdown",
      "id": "33339c0d",
      "metadata": {
        "id": "33339c0d"
      },
      "source": [
        "## 3. Ablation experiment"
      ]
    },
    {
      "cell_type": "markdown",
      "id": "cf6c41d2",
      "metadata": {
        "id": "cf6c41d2"
      },
      "source": [
        "### 3.1 Adam Optimizer without Dropout"
      ]
    },
    {
      "cell_type": "code",
      "execution_count": null,
      "id": "27cbeda7",
      "metadata": {
        "id": "27cbeda7",
        "outputId": "c09cfe4d-9ea7-4b74-81d0-fb74122b3737"
      },
      "outputs": [
        {
          "name": "stdout",
          "output_type": "stream",
          "text": [
            "Epoch 1/200, Loss: 1.8795\n",
            "Epoch 2/200, Loss: 1.6722\n",
            "Epoch 3/200, Loss: 1.6160\n",
            "Epoch 4/200, Loss: 1.5817\n",
            "Epoch 5/200, Loss: 1.5560\n",
            "Epoch 6/200, Loss: 1.5353\n",
            "Epoch 7/200, Loss: 1.5175\n",
            "Epoch 8/200, Loss: 1.5018\n",
            "Epoch 9/200, Loss: 1.4877\n",
            "Epoch 10/200, Loss: 1.4747\n",
            "Epoch 11/200, Loss: 1.4626\n",
            "Epoch 12/200, Loss: 1.4513\n",
            "Epoch 13/200, Loss: 1.4405\n",
            "Epoch 14/200, Loss: 1.4303\n",
            "Epoch 15/200, Loss: 1.4204\n",
            "Epoch 16/200, Loss: 1.4109\n",
            "Epoch 17/200, Loss: 1.4018\n",
            "Epoch 18/200, Loss: 1.3930\n",
            "Epoch 19/200, Loss: 1.3845\n",
            "Epoch 20/200, Loss: 1.3764\n",
            "Epoch 21/200, Loss: 1.3687\n",
            "Epoch 22/200, Loss: 1.3612\n",
            "Epoch 23/200, Loss: 1.3541\n",
            "Epoch 24/200, Loss: 1.3472\n",
            "Epoch 25/200, Loss: 1.3406\n",
            "Epoch 26/200, Loss: 1.3341\n",
            "Epoch 27/200, Loss: 1.3279\n",
            "Epoch 28/200, Loss: 1.3220\n",
            "Epoch 29/200, Loss: 1.3162\n",
            "Epoch 30/200, Loss: 1.3106\n",
            "Epoch 31/200, Loss: 1.3051\n",
            "Epoch 32/200, Loss: 1.2999\n",
            "Epoch 33/200, Loss: 1.2947\n",
            "Epoch 34/200, Loss: 1.2898\n",
            "Epoch 35/200, Loss: 1.2850\n",
            "Epoch 36/200, Loss: 1.2803\n",
            "Epoch 37/200, Loss: 1.2758\n",
            "Epoch 38/200, Loss: 1.2714\n",
            "Epoch 39/200, Loss: 1.2671\n",
            "Epoch 40/200, Loss: 1.2628\n",
            "Epoch 41/200, Loss: 1.2587\n",
            "Epoch 42/200, Loss: 1.2546\n",
            "Epoch 43/200, Loss: 1.2507\n",
            "Epoch 44/200, Loss: 1.2469\n",
            "Epoch 45/200, Loss: 1.2431\n",
            "Epoch 46/200, Loss: 1.2395\n",
            "Epoch 47/200, Loss: 1.2359\n",
            "Epoch 48/200, Loss: 1.2325\n",
            "Epoch 49/200, Loss: 1.2291\n",
            "Epoch 50/200, Loss: 1.2258\n",
            "Epoch 51/200, Loss: 1.2226\n",
            "Epoch 52/200, Loss: 1.2195\n",
            "Epoch 53/200, Loss: 1.2165\n",
            "Epoch 54/200, Loss: 1.2136\n",
            "Epoch 55/200, Loss: 1.2107\n",
            "Epoch 56/200, Loss: 1.2079\n",
            "Epoch 57/200, Loss: 1.2051\n",
            "Epoch 58/200, Loss: 1.2025\n",
            "Epoch 59/200, Loss: 1.1999\n",
            "Epoch 60/200, Loss: 1.1974\n",
            "Epoch 61/200, Loss: 1.1950\n",
            "Epoch 62/200, Loss: 1.1926\n",
            "Epoch 63/200, Loss: 1.1902\n",
            "Epoch 64/200, Loss: 1.1878\n",
            "Epoch 65/200, Loss: 1.1855\n",
            "Epoch 66/200, Loss: 1.1832\n",
            "Epoch 67/200, Loss: 1.1809\n",
            "Epoch 68/200, Loss: 1.1786\n",
            "Epoch 69/200, Loss: 1.1764\n",
            "Epoch 70/200, Loss: 1.1743\n",
            "Epoch 71/200, Loss: 1.1722\n",
            "Epoch 72/200, Loss: 1.1702\n",
            "Epoch 73/200, Loss: 1.1681\n",
            "Epoch 74/200, Loss: 1.1662\n",
            "Epoch 75/200, Loss: 1.1643\n",
            "Epoch 76/200, Loss: 1.1624\n",
            "Epoch 77/200, Loss: 1.1605\n",
            "Epoch 78/200, Loss: 1.1588\n",
            "Epoch 79/200, Loss: 1.1570\n",
            "Epoch 80/200, Loss: 1.1552\n",
            "Epoch 81/200, Loss: 1.1535\n",
            "Epoch 82/200, Loss: 1.1518\n",
            "Epoch 83/200, Loss: 1.1501\n",
            "Epoch 84/200, Loss: 1.1485\n",
            "Epoch 85/200, Loss: 1.1469\n",
            "Epoch 86/200, Loss: 1.1453\n",
            "Epoch 87/200, Loss: 1.1438\n",
            "Epoch 88/200, Loss: 1.1423\n",
            "Epoch 89/200, Loss: 1.1407\n",
            "Epoch 90/200, Loss: 1.1393\n",
            "Epoch 91/200, Loss: 1.1378\n",
            "Epoch 92/200, Loss: 1.1364\n",
            "Epoch 93/200, Loss: 1.1349\n",
            "Epoch 94/200, Loss: 1.1335\n",
            "Epoch 95/200, Loss: 1.1321\n",
            "Epoch 96/200, Loss: 1.1307\n",
            "Epoch 97/200, Loss: 1.1294\n",
            "Epoch 98/200, Loss: 1.1280\n",
            "Epoch 99/200, Loss: 1.1267\n",
            "Epoch 100/200, Loss: 1.1254\n",
            "Epoch 101/200, Loss: 1.1241\n",
            "Epoch 102/200, Loss: 1.1230\n",
            "Epoch 103/200, Loss: 1.1218\n",
            "Epoch 104/200, Loss: 1.1205\n",
            "Epoch 105/200, Loss: 1.1194\n",
            "Epoch 106/200, Loss: 1.1182\n",
            "Epoch 107/200, Loss: 1.1171\n",
            "Epoch 108/200, Loss: 1.1160\n",
            "Epoch 109/200, Loss: 1.1149\n",
            "Epoch 110/200, Loss: 1.1139\n",
            "Epoch 111/200, Loss: 1.1129\n",
            "Epoch 112/200, Loss: 1.1118\n",
            "Epoch 113/200, Loss: 1.1108\n",
            "Epoch 114/200, Loss: 1.1098\n",
            "Epoch 115/200, Loss: 1.1088\n",
            "Epoch 116/200, Loss: 1.1079\n",
            "Epoch 117/200, Loss: 1.1070\n",
            "Epoch 118/200, Loss: 1.1060\n",
            "Epoch 119/200, Loss: 1.1051\n",
            "Epoch 120/200, Loss: 1.1041\n",
            "Epoch 121/200, Loss: 1.1034\n",
            "Epoch 122/200, Loss: 1.1025\n",
            "Epoch 123/200, Loss: 1.1017\n",
            "Epoch 124/200, Loss: 1.1009\n",
            "Epoch 125/200, Loss: 1.1000\n",
            "Epoch 126/200, Loss: 1.0992\n",
            "Epoch 127/200, Loss: 1.0984\n",
            "Epoch 128/200, Loss: 1.0976\n",
            "Epoch 129/200, Loss: 1.0968\n",
            "Epoch 130/200, Loss: 1.0960\n",
            "Epoch 131/200, Loss: 1.0952\n",
            "Epoch 132/200, Loss: 1.0945\n",
            "Epoch 133/200, Loss: 1.0936\n",
            "Epoch 134/200, Loss: 1.0929\n",
            "Epoch 135/200, Loss: 1.0923\n",
            "Epoch 136/200, Loss: 1.0915\n",
            "Epoch 137/200, Loss: 1.0908\n",
            "Epoch 138/200, Loss: 1.0901\n",
            "Epoch 139/200, Loss: 1.0895\n",
            "Epoch 140/200, Loss: 1.0887\n",
            "Epoch 141/200, Loss: 1.0881\n",
            "Epoch 142/200, Loss: 1.0874\n",
            "Epoch 143/200, Loss: 1.0868\n",
            "Epoch 144/200, Loss: 1.0861\n",
            "Epoch 145/200, Loss: 1.0854\n",
            "Epoch 146/200, Loss: 1.0849\n",
            "Epoch 147/200, Loss: 1.0842\n",
            "Epoch 148/200, Loss: 1.0836\n",
            "Epoch 149/200, Loss: 1.0830\n",
            "Epoch 150/200, Loss: 1.0824\n",
            "Epoch 151/200, Loss: 1.0818\n",
            "Epoch 152/200, Loss: 1.0812\n",
            "Epoch 153/200, Loss: 1.0806\n",
            "Epoch 154/200, Loss: 1.0802\n",
            "Epoch 155/200, Loss: 1.0794\n",
            "Epoch 156/200, Loss: 1.0789\n",
            "Epoch 157/200, Loss: 1.0784\n",
            "Epoch 158/200, Loss: 1.0778\n",
            "Epoch 159/200, Loss: 1.0773\n",
            "Epoch 160/200, Loss: 1.0766\n",
            "Epoch 161/200, Loss: 1.0762\n",
            "Epoch 162/200, Loss: 1.0757\n",
            "Epoch 163/200, Loss: 1.0752\n",
            "Epoch 164/200, Loss: 1.0747\n",
            "Epoch 165/200, Loss: 1.0742\n",
            "Epoch 166/200, Loss: 1.0737\n",
            "Epoch 167/200, Loss: 1.0732\n",
            "Epoch 168/200, Loss: 1.0728\n",
            "Epoch 169/200, Loss: 1.0722\n",
            "Epoch 170/200, Loss: 1.0718\n",
            "Epoch 171/200, Loss: 1.0714\n",
            "Epoch 172/200, Loss: 1.0709\n",
            "Epoch 173/200, Loss: 1.0705\n",
            "Epoch 174/200, Loss: 1.0701\n",
            "Epoch 175/200, Loss: 1.0697\n",
            "Epoch 176/200, Loss: 1.0693\n",
            "Epoch 177/200, Loss: 1.0689\n",
            "Epoch 178/200, Loss: 1.0686\n",
            "Epoch 179/200, Loss: 1.0682\n",
            "Epoch 180/200, Loss: 1.0678\n",
            "Epoch 181/200, Loss: 1.0674\n",
            "Epoch 182/200, Loss: 1.0670\n",
            "Epoch 183/200, Loss: 1.0666\n",
            "Epoch 184/200, Loss: 1.0663\n",
            "Epoch 185/200, Loss: 1.0659\n",
            "Epoch 186/200, Loss: 1.0656\n",
            "Epoch 187/200, Loss: 1.0652\n",
            "Epoch 188/200, Loss: 1.0648\n",
            "Epoch 189/200, Loss: 1.0645\n",
            "Epoch 190/200, Loss: 1.0641\n",
            "Epoch 191/200, Loss: 1.0638\n",
            "Epoch 192/200, Loss: 1.0633\n",
            "Epoch 193/200, Loss: 1.0630\n",
            "Epoch 194/200, Loss: 1.0626\n",
            "Epoch 195/200, Loss: 1.0622\n",
            "Epoch 196/200, Loss: 1.0618\n",
            "Epoch 197/200, Loss: 1.0615\n",
            "Epoch 198/200, Loss: 1.0611\n",
            "Epoch 199/200, Loss: 1.0607\n",
            "Epoch 200/200, Loss: 1.0604\n"
          ]
        }
      ],
      "source": [
        "# adam ==0\n",
        "# dropout == 0\n",
        "optimizer1 = Adam()\n",
        "model_Adam = MLP(input_dim, hidden_dims, output_dim,\n",
        "                 dropout_rate=0,\n",
        "                 weight_decay=0,\n",
        "                 optimizer=optimizer1)\n",
        "Adam_Fit = MiniBatchFit(model_Adam, optimizer1,\n",
        "             X_train, Y_train,\n",
        "             output_dim,\n",
        "             num_epochs=num_epochs,\n",
        "             batch_size=batch_size,\n",
        "             learning_rate=0.001)\n",
        "Adam_Fit.fit()\n"
      ]
    },
    {
      "cell_type": "markdown",
      "id": "a104c883",
      "metadata": {
        "id": "a104c883"
      },
      "source": [
        "### 3.1.1 Evaluation of Validation Set"
      ]
    },
    {
      "cell_type": "code",
      "execution_count": null,
      "id": "c0017ef2",
      "metadata": {
        "id": "c0017ef2",
        "outputId": "62429c8f-5891-42a8-b180-ee9fd789f4a6"
      },
      "outputs": [
        {
          "name": "stdout",
          "output_type": "stream",
          "text": [
            "Validation Accuracy: 0.4973\n",
            "Validation F1 Score: 0.4939\n",
            "Validation Recall: 0.4973\n",
            "Validation Precision: 0.4923\n"
          ]
        }
      ],
      "source": [
        "predictions_train_Adam, Adam_Train_no_dropout_acc = model_Adam.predict_and_evaluate(X_val, Y_val)\n",
        "Adam_Train_no_dropout_precision_val,Adam_Train_no_dropout_recall_val,Adam_Train_no_dropout_f1_val = classification_report_numpy(Y_val, predictions_train_Adam, average='macro')\n",
        "print(f\"Validation Accuracy: {Adam_Train_no_dropout_acc:.4f}\")\n",
        "print(f\"Validation F1 Score: {Adam_Train_no_dropout_f1_val:.4f}\")\n",
        "print(f\"Validation Recall: {Adam_Train_no_dropout_recall_val:.4f}\")\n",
        "print(f\"Validation Precision: {Adam_Train_no_dropout_precision_val:.4f}\")\n"
      ]
    },
    {
      "cell_type": "markdown",
      "id": "e36d0e03",
      "metadata": {
        "id": "e36d0e03"
      },
      "source": [
        "### 3.1.2 Evaluation of Test Set"
      ]
    },
    {
      "cell_type": "code",
      "execution_count": null,
      "id": "d4bf6f1b",
      "metadata": {
        "id": "d4bf6f1b",
        "outputId": "38c8a0bc-fdfb-4291-c789-188ea6e9e6ea"
      },
      "outputs": [
        {
          "name": "stdout",
          "output_type": "stream",
          "text": [
            "Test Accuracy: 0.4855\n",
            "Test F1 Score: 0.4828\n",
            "Test Recall: 0.4868\n",
            "Test Precision: 0.4814\n"
          ]
        }
      ],
      "source": [
        "predictions_test_Adam,Adam_Test_no_dropout_acc = model_Adam.predict_and_evaluate(X_test, Y_test)\n",
        "Adam_Test_no_dropout_precision_test,Adam_Test_no_dropout_recall_test,Adam_Test_no_dropout_f1_test = classification_report_numpy(Y_test, predictions_test_Adam, average='macro')\n",
        "print(f\"Test Accuracy: {Adam_Test_acc:.4f}\")\n",
        "print(f\"Test F1 Score: {Adam_Test_no_dropout_f1_test:.4f}\")\n",
        "print(f\"Test Recall: {Adam_Test_no_dropout_recall_test:.4f}\")\n",
        "print(f\"Test Precision: {Adam_Test_no_dropout_precision_test:.4f}\")"
      ]
    },
    {
      "cell_type": "markdown",
      "id": "4be692d7",
      "metadata": {
        "id": "4be692d7"
      },
      "source": [
        "## 3.2 SGD Optimizer without Dropout"
      ]
    },
    {
      "cell_type": "code",
      "execution_count": null,
      "id": "3ae4cf09",
      "metadata": {
        "id": "3ae4cf09",
        "outputId": "2741ad5b-3486-4c32-867a-370e96e1a83e"
      },
      "outputs": [
        {
          "name": "stdout",
          "output_type": "stream",
          "text": [
            "Epoch 1/200, Loss: 2.0795\n",
            "Epoch 2/200, Loss: 1.8262\n",
            "Epoch 3/200, Loss: 1.7360\n",
            "Epoch 4/200, Loss: 1.6808\n",
            "Epoch 5/200, Loss: 1.6388\n",
            "Epoch 6/200, Loss: 1.6043\n",
            "Epoch 7/200, Loss: 1.5756\n",
            "Epoch 8/200, Loss: 1.5513\n",
            "Epoch 9/200, Loss: 1.5303\n",
            "Epoch 10/200, Loss: 1.5118\n",
            "Epoch 11/200, Loss: 1.4952\n",
            "Epoch 12/200, Loss: 1.4800\n",
            "Epoch 13/200, Loss: 1.4661\n",
            "Epoch 14/200, Loss: 1.4531\n",
            "Epoch 15/200, Loss: 1.4408\n",
            "Epoch 16/200, Loss: 1.4294\n",
            "Epoch 17/200, Loss: 1.4185\n",
            "Epoch 18/200, Loss: 1.4079\n",
            "Epoch 19/200, Loss: 1.3979\n",
            "Epoch 20/200, Loss: 1.3881\n",
            "Epoch 21/200, Loss: 1.3790\n",
            "Epoch 22/200, Loss: 1.3703\n",
            "Epoch 23/200, Loss: 1.3623\n",
            "Epoch 24/200, Loss: 1.3548\n",
            "Epoch 25/200, Loss: 1.3475\n",
            "Epoch 26/200, Loss: 1.3406\n",
            "Epoch 27/200, Loss: 1.3340\n",
            "Epoch 28/200, Loss: 1.3277\n",
            "Epoch 29/200, Loss: 1.3217\n",
            "Epoch 30/200, Loss: 1.3159\n",
            "Epoch 31/200, Loss: 1.3105\n",
            "Epoch 32/200, Loss: 1.3052\n",
            "Epoch 33/200, Loss: 1.3001\n",
            "Epoch 34/200, Loss: 1.2952\n",
            "Epoch 35/200, Loss: 1.2905\n",
            "Epoch 36/200, Loss: 1.2857\n",
            "Epoch 37/200, Loss: 1.2811\n",
            "Epoch 38/200, Loss: 1.2769\n",
            "Epoch 39/200, Loss: 1.2726\n",
            "Epoch 40/200, Loss: 1.2685\n",
            "Epoch 41/200, Loss: 1.2645\n",
            "Epoch 42/200, Loss: 1.2604\n",
            "Epoch 43/200, Loss: 1.2567\n",
            "Epoch 44/200, Loss: 1.2530\n",
            "Epoch 45/200, Loss: 1.2492\n",
            "Epoch 46/200, Loss: 1.2456\n",
            "Epoch 47/200, Loss: 1.2422\n",
            "Epoch 48/200, Loss: 1.2387\n",
            "Epoch 49/200, Loss: 1.2353\n",
            "Epoch 50/200, Loss: 1.2320\n",
            "Epoch 51/200, Loss: 1.2287\n",
            "Epoch 52/200, Loss: 1.2257\n",
            "Epoch 53/200, Loss: 1.2227\n",
            "Epoch 54/200, Loss: 1.2195\n",
            "Epoch 55/200, Loss: 1.2166\n",
            "Epoch 56/200, Loss: 1.2135\n",
            "Epoch 57/200, Loss: 1.2108\n",
            "Epoch 58/200, Loss: 1.2080\n",
            "Epoch 59/200, Loss: 1.2053\n",
            "Epoch 60/200, Loss: 1.2028\n",
            "Epoch 61/200, Loss: 1.2005\n",
            "Epoch 62/200, Loss: 1.1980\n",
            "Epoch 63/200, Loss: 1.1957\n",
            "Epoch 64/200, Loss: 1.1933\n",
            "Epoch 65/200, Loss: 1.1911\n",
            "Epoch 66/200, Loss: 1.1887\n",
            "Epoch 67/200, Loss: 1.1866\n",
            "Epoch 68/200, Loss: 1.1844\n",
            "Epoch 69/200, Loss: 1.1823\n",
            "Epoch 70/200, Loss: 1.1801\n",
            "Epoch 71/200, Loss: 1.1781\n",
            "Epoch 72/200, Loss: 1.1762\n",
            "Epoch 73/200, Loss: 1.1741\n",
            "Epoch 74/200, Loss: 1.1721\n",
            "Epoch 75/200, Loss: 1.1703\n",
            "Epoch 76/200, Loss: 1.1684\n",
            "Epoch 77/200, Loss: 1.1665\n",
            "Epoch 78/200, Loss: 1.1647\n",
            "Epoch 79/200, Loss: 1.1629\n",
            "Epoch 80/200, Loss: 1.1611\n",
            "Epoch 81/200, Loss: 1.1594\n",
            "Epoch 82/200, Loss: 1.1579\n",
            "Epoch 83/200, Loss: 1.1563\n",
            "Epoch 84/200, Loss: 1.1547\n",
            "Epoch 85/200, Loss: 1.1530\n",
            "Epoch 86/200, Loss: 1.1515\n",
            "Epoch 87/200, Loss: 1.1501\n",
            "Epoch 88/200, Loss: 1.1488\n",
            "Epoch 89/200, Loss: 1.1475\n",
            "Epoch 90/200, Loss: 1.1461\n",
            "Epoch 91/200, Loss: 1.1446\n",
            "Epoch 92/200, Loss: 1.1432\n",
            "Epoch 93/200, Loss: 1.1419\n",
            "Epoch 94/200, Loss: 1.1405\n",
            "Epoch 95/200, Loss: 1.1391\n",
            "Epoch 96/200, Loss: 1.1379\n",
            "Epoch 97/200, Loss: 1.1366\n",
            "Epoch 98/200, Loss: 1.1353\n",
            "Epoch 99/200, Loss: 1.1339\n",
            "Epoch 100/200, Loss: 1.1327\n",
            "Epoch 101/200, Loss: 1.1315\n",
            "Epoch 102/200, Loss: 1.1302\n",
            "Epoch 103/200, Loss: 1.1291\n",
            "Epoch 104/200, Loss: 1.1278\n",
            "Epoch 105/200, Loss: 1.1268\n",
            "Epoch 106/200, Loss: 1.1258\n",
            "Epoch 107/200, Loss: 1.1247\n",
            "Epoch 108/200, Loss: 1.1236\n",
            "Epoch 109/200, Loss: 1.1224\n",
            "Epoch 110/200, Loss: 1.1214\n",
            "Epoch 111/200, Loss: 1.1203\n",
            "Epoch 112/200, Loss: 1.1193\n",
            "Epoch 113/200, Loss: 1.1182\n",
            "Epoch 114/200, Loss: 1.1172\n",
            "Epoch 115/200, Loss: 1.1162\n",
            "Epoch 116/200, Loss: 1.1153\n",
            "Epoch 117/200, Loss: 1.1143\n",
            "Epoch 118/200, Loss: 1.1134\n",
            "Epoch 119/200, Loss: 1.1123\n",
            "Epoch 120/200, Loss: 1.1112\n",
            "Epoch 121/200, Loss: 1.1104\n",
            "Epoch 122/200, Loss: 1.1095\n",
            "Epoch 123/200, Loss: 1.1086\n",
            "Epoch 124/200, Loss: 1.1077\n",
            "Epoch 125/200, Loss: 1.1067\n",
            "Epoch 126/200, Loss: 1.1058\n",
            "Epoch 127/200, Loss: 1.1049\n",
            "Epoch 128/200, Loss: 1.1039\n",
            "Epoch 129/200, Loss: 1.1031\n",
            "Epoch 130/200, Loss: 1.1022\n",
            "Epoch 131/200, Loss: 1.1013\n",
            "Epoch 132/200, Loss: 1.1006\n",
            "Epoch 133/200, Loss: 1.0996\n",
            "Epoch 134/200, Loss: 1.0990\n",
            "Epoch 135/200, Loss: 1.0979\n",
            "Epoch 136/200, Loss: 1.0974\n",
            "Epoch 137/200, Loss: 1.0966\n",
            "Epoch 138/200, Loss: 1.0959\n",
            "Epoch 139/200, Loss: 1.0951\n",
            "Epoch 140/200, Loss: 1.0943\n",
            "Epoch 141/200, Loss: 1.0935\n",
            "Epoch 142/200, Loss: 1.0929\n",
            "Epoch 143/200, Loss: 1.0921\n",
            "Epoch 144/200, Loss: 1.0915\n",
            "Epoch 145/200, Loss: 1.0909\n",
            "Epoch 146/200, Loss: 1.0901\n",
            "Epoch 147/200, Loss: 1.0894\n",
            "Epoch 148/200, Loss: 1.0888\n",
            "Epoch 149/200, Loss: 1.0883\n",
            "Epoch 150/200, Loss: 1.0876\n",
            "Epoch 151/200, Loss: 1.0870\n",
            "Epoch 152/200, Loss: 1.0865\n",
            "Epoch 153/200, Loss: 1.0858\n",
            "Epoch 154/200, Loss: 1.0851\n",
            "Epoch 155/200, Loss: 1.0846\n",
            "Epoch 156/200, Loss: 1.0841\n",
            "Epoch 157/200, Loss: 1.0835\n",
            "Epoch 158/200, Loss: 1.0828\n",
            "Epoch 159/200, Loss: 1.0823\n",
            "Epoch 160/200, Loss: 1.0817\n",
            "Epoch 161/200, Loss: 1.0811\n",
            "Epoch 162/200, Loss: 1.0806\n",
            "Epoch 163/200, Loss: 1.0799\n",
            "Epoch 164/200, Loss: 1.0796\n",
            "Epoch 165/200, Loss: 1.0790\n",
            "Epoch 166/200, Loss: 1.0785\n",
            "Epoch 167/200, Loss: 1.0778\n",
            "Epoch 168/200, Loss: 1.0772\n",
            "Epoch 169/200, Loss: 1.0768\n",
            "Epoch 170/200, Loss: 1.0762\n",
            "Epoch 171/200, Loss: 1.0756\n",
            "Epoch 172/200, Loss: 1.0751\n",
            "Epoch 173/200, Loss: 1.0746\n",
            "Epoch 174/200, Loss: 1.0740\n",
            "Epoch 175/200, Loss: 1.0736\n",
            "Epoch 176/200, Loss: 1.0729\n",
            "Epoch 177/200, Loss: 1.0725\n",
            "Epoch 178/200, Loss: 1.0720\n",
            "Epoch 179/200, Loss: 1.0715\n",
            "Epoch 180/200, Loss: 1.0710\n",
            "Epoch 181/200, Loss: 1.0706\n",
            "Epoch 182/200, Loss: 1.0699\n",
            "Epoch 183/200, Loss: 1.0696\n",
            "Epoch 184/200, Loss: 1.0691\n",
            "Epoch 185/200, Loss: 1.0686\n",
            "Epoch 186/200, Loss: 1.0682\n",
            "Epoch 187/200, Loss: 1.0678\n",
            "Epoch 188/200, Loss: 1.0673\n",
            "Epoch 189/200, Loss: 1.0668\n",
            "Epoch 190/200, Loss: 1.0664\n",
            "Epoch 191/200, Loss: 1.0661\n",
            "Epoch 192/200, Loss: 1.0657\n",
            "Epoch 193/200, Loss: 1.0652\n",
            "Epoch 194/200, Loss: 1.0647\n",
            "Epoch 195/200, Loss: 1.0643\n",
            "Epoch 196/200, Loss: 1.0640\n",
            "Epoch 197/200, Loss: 1.0634\n",
            "Epoch 198/200, Loss: 1.0630\n",
            "Epoch 199/200, Loss: 1.0626\n",
            "Epoch 200/200, Loss: 1.0623\n"
          ]
        }
      ],
      "source": [
        "# SGD\n",
        "# dropout == 0\n",
        "optimizer_SGDM = SGDMomentum(momentum=0.5)\n",
        "\n",
        "model_SGDM = MLP(input_dim, hidden_dims, output_dim,\n",
        "                 dropout_rate=0.0,\n",
        "                 weight_decay=0.0,\n",
        "                 optimizer=optimizer_SGDM)\n",
        "\n",
        "SGDM_Fit = MiniBatchFit(model_SGDM, optimizer_SGDM,\n",
        "                        X_train, Y_train,\n",
        "                        output_dim=output_dim,\n",
        "                        num_epochs=num_epochs,\n",
        "                        batch_size=batch_size,\n",
        "                        learning_rate=0.01)\n",
        "\n",
        "SGDM_Fit.fit()"
      ]
    },
    {
      "cell_type": "markdown",
      "id": "d037f3ae",
      "metadata": {
        "id": "d037f3ae"
      },
      "source": [
        "### 3.2.1 Evaluation of Validation Set"
      ]
    },
    {
      "cell_type": "code",
      "execution_count": null,
      "id": "f78363be",
      "metadata": {
        "id": "f78363be",
        "outputId": "d2526442-4bdf-42c1-e93f-2220760c081b"
      },
      "outputs": [
        {
          "name": "stdout",
          "output_type": "stream",
          "text": [
            "Validation Accuracy: 0.5030\n",
            "Validation F1 Score: 0.4976\n",
            "Validation Recall: 0.5030\n",
            "Validation Precision: 0.4958\n"
          ]
        }
      ],
      "source": [
        "# Get predictions and ignore accuracy here\n",
        "y_pred, SGD_Train_no_dropout_acc = model_SGDM.predict_and_evaluate(X_val, Y_val)\n",
        "\n",
        "# Evaluate metrics\n",
        "SGD_Train_no_dropout_precision_val, SGD_Train_no_dropout_recall_val, SGD_Train_no_dropout_f1_val = classification_report_numpy(Y_val, y_pred, average='macro')\n",
        "print(f\"Validation Accuracy: {SGD_Train_no_dropout_acc:.4f}\")\n",
        "\n",
        "print(f\"Validation F1 Score: {SGD_Train_no_dropout_f1_val:.4f}\")\n",
        "print(f\"Validation Recall: {SGD_Train_no_dropout_recall_val:.4f}\")\n",
        "print(f\"Validation Precision: {SGD_Train_no_dropout_precision_val:.4f}\")"
      ]
    },
    {
      "cell_type": "markdown",
      "id": "6c13d4dc",
      "metadata": {
        "id": "6c13d4dc"
      },
      "source": [
        "### 3.2.2 Evaluation of Test Set"
      ]
    },
    {
      "cell_type": "code",
      "execution_count": null,
      "id": "1d9228a3",
      "metadata": {
        "id": "1d9228a3",
        "outputId": "0a4ae50a-5fc6-4c25-8825-db5f8d18834e"
      },
      "outputs": [
        {
          "name": "stdout",
          "output_type": "stream",
          "text": [
            "Test Accuracy: 0.4986\n",
            "Test F1 Score: 0.4943\n",
            "Test Recall: 0.4986\n",
            "Test Precision: 0.4931\n"
          ]
        }
      ],
      "source": [
        "y_pred_test, SGD_Test_no_dropout_acc = model_SGDM.predict_and_evaluate(X_test, Y_test)\n",
        "\n",
        "SGD_Test_no_dropout_precision_test, SGD_Test_no_dropout_recall_test, SGD_Test_no_dropout_f1_test = classification_report_numpy(Y_test, y_pred_test, average='macro')\n",
        "print(f\"Test Accuracy: {SGD_Test_no_dropout_acc:.4f}\")\n",
        "\n",
        "print(f\"Test F1 Score: {SGD_Test_no_dropout_f1_test:.4f}\")\n",
        "print(f\"Test Recall: {SGD_Test_no_dropout_recall_test:.4f}\")\n",
        "print(f\"Test Precision: {SGD_Test_no_dropout_precision_test:.4f}\")"
      ]
    }
  ],
  "metadata": {
    "kernelspec": {
      "display_name": "CXXA1",
      "language": "python",
      "name": "python3"
    },
    "language_info": {
      "codemirror_mode": {
        "name": "ipython",
        "version": 3
      },
      "file_extension": ".py",
      "mimetype": "text/x-python",
      "name": "python",
      "nbconvert_exporter": "python",
      "pygments_lexer": "ipython3",
      "version": "3.10.16"
    },
    "colab": {
      "provenance": [],
      "toc_visible": true,
      "include_colab_link": true
    }
  },
  "nbformat": 4,
  "nbformat_minor": 5
}